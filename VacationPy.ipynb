{
 "cells": [
  {
   "cell_type": "code",
   "execution_count": 1,
   "id": "e34421cf",
   "metadata": {},
   "outputs": [],
   "source": [
    "# Import the dependencies.\n",
    "import pandas as pd\n",
    "import gmaps\n",
    "import requests\n",
    "# Import the API key.\n",
    "from config import google_key\n"
   ]
  },
  {
   "cell_type": "code",
   "execution_count": 2,
   "id": "308554ba",
   "metadata": {},
   "outputs": [
    {
     "data": {
      "text/html": [
       "<div>\n",
       "<style scoped>\n",
       "    .dataframe tbody tr th:only-of-type {\n",
       "        vertical-align: middle;\n",
       "    }\n",
       "\n",
       "    .dataframe tbody tr th {\n",
       "        vertical-align: top;\n",
       "    }\n",
       "\n",
       "    .dataframe thead th {\n",
       "        text-align: right;\n",
       "    }\n",
       "</style>\n",
       "<table border=\"1\" class=\"dataframe\">\n",
       "  <thead>\n",
       "    <tr style=\"text-align: right;\">\n",
       "      <th></th>\n",
       "      <th>City_ID</th>\n",
       "      <th>City</th>\n",
       "      <th>Country</th>\n",
       "      <th>Date</th>\n",
       "      <th>Lat</th>\n",
       "      <th>Lng</th>\n",
       "      <th>Max Temp</th>\n",
       "      <th>Humidity</th>\n",
       "      <th>Cloudiness</th>\n",
       "      <th>Wind Speed</th>\n",
       "    </tr>\n",
       "  </thead>\n",
       "  <tbody>\n",
       "    <tr>\n",
       "      <th>0</th>\n",
       "      <td>0</td>\n",
       "      <td>Chokurdakh</td>\n",
       "      <td>RU</td>\n",
       "      <td>10/13/2021 0:16</td>\n",
       "      <td>70.6333</td>\n",
       "      <td>147.9167</td>\n",
       "      <td>16.45</td>\n",
       "      <td>93</td>\n",
       "      <td>100</td>\n",
       "      <td>7.29</td>\n",
       "    </tr>\n",
       "    <tr>\n",
       "      <th>1</th>\n",
       "      <td>1</td>\n",
       "      <td>Punta Arenas</td>\n",
       "      <td>CL</td>\n",
       "      <td>10/13/2021 0:16</td>\n",
       "      <td>-53.1500</td>\n",
       "      <td>-70.9167</td>\n",
       "      <td>53.71</td>\n",
       "      <td>40</td>\n",
       "      <td>0</td>\n",
       "      <td>13.80</td>\n",
       "    </tr>\n",
       "    <tr>\n",
       "      <th>2</th>\n",
       "      <td>2</td>\n",
       "      <td>Conde</td>\n",
       "      <td>BR</td>\n",
       "      <td>10/13/2021 0:16</td>\n",
       "      <td>-7.2597</td>\n",
       "      <td>-34.9075</td>\n",
       "      <td>74.66</td>\n",
       "      <td>88</td>\n",
       "      <td>20</td>\n",
       "      <td>4.61</td>\n",
       "    </tr>\n",
       "    <tr>\n",
       "      <th>3</th>\n",
       "      <td>3</td>\n",
       "      <td>Krasnovishersk</td>\n",
       "      <td>RU</td>\n",
       "      <td>10/13/2021 0:16</td>\n",
       "      <td>60.4078</td>\n",
       "      <td>57.0820</td>\n",
       "      <td>36.52</td>\n",
       "      <td>94</td>\n",
       "      <td>84</td>\n",
       "      <td>3.94</td>\n",
       "    </tr>\n",
       "    <tr>\n",
       "      <th>4</th>\n",
       "      <td>4</td>\n",
       "      <td>Bluff</td>\n",
       "      <td>NZ</td>\n",
       "      <td>10/13/2021 0:14</td>\n",
       "      <td>-46.6000</td>\n",
       "      <td>168.3333</td>\n",
       "      <td>46.24</td>\n",
       "      <td>68</td>\n",
       "      <td>100</td>\n",
       "      <td>14.14</td>\n",
       "    </tr>\n",
       "  </tbody>\n",
       "</table>\n",
       "</div>"
      ],
      "text/plain": [
       "   City_ID            City Country             Date      Lat       Lng  \\\n",
       "0        0      Chokurdakh      RU  10/13/2021 0:16  70.6333  147.9167   \n",
       "1        1    Punta Arenas      CL  10/13/2021 0:16 -53.1500  -70.9167   \n",
       "2        2           Conde      BR  10/13/2021 0:16  -7.2597  -34.9075   \n",
       "3        3  Krasnovishersk      RU  10/13/2021 0:16  60.4078   57.0820   \n",
       "4        4           Bluff      NZ  10/13/2021 0:14 -46.6000  168.3333   \n",
       "\n",
       "   Max Temp  Humidity  Cloudiness  Wind Speed  \n",
       "0     16.45        93         100        7.29  \n",
       "1     53.71        40           0       13.80  \n",
       "2     74.66        88          20        4.61  \n",
       "3     36.52        94          84        3.94  \n",
       "4     46.24        68         100       14.14  "
      ]
     },
     "execution_count": 2,
     "metadata": {},
     "output_type": "execute_result"
    }
   ],
   "source": [
    "# Store the CSV you saved created in part one into a DataFrame.\n",
    "city_data_df = pd.read_csv(\"weather_data/cities.csv\")\n",
    "city_data_df.head()"
   ]
  },
  {
   "cell_type": "code",
   "execution_count": 3,
   "id": "03f2729e",
   "metadata": {},
   "outputs": [],
   "source": [
    "# Configure gmaps to use your Google API key.\n",
    "gmaps.configure(api_key=google_key)"
   ]
  },
  {
   "cell_type": "code",
   "execution_count": 4,
   "id": "d995093f",
   "metadata": {},
   "outputs": [
    {
     "data": {
      "application/vnd.jupyter.widget-view+json": {
       "model_id": "251b2cc1e71e4a8987cae8c767202927",
       "version_major": 2,
       "version_minor": 0
      },
      "text/plain": [
       "Figure(layout=FigureLayout(height='420px'))"
      ]
     },
     "metadata": {},
     "output_type": "display_data"
    }
   ],
   "source": [
    "# Heatmap of temperature\n",
    "# Get the latitude and longitude.\n",
    "locations = city_data_df[[\"Lat\", \"Lng\"]]\n",
    "# Get the maximum temperature.\n",
    "max_temp = city_data_df[\"Max Temp\"]\n",
    "# Assign the figure variable.\n",
    "fig = gmaps.figure(center=(30.0, 31.0), zoom_level=1.5)\n",
    "# Assign the heatmap variable.\n",
    "heat_layer = gmaps.heatmap_layer(locations, weights=[max(temp, 0) for temp in max_temp], \n",
    "                                 dissipating=False, max_intensity=300, point_radius=4)\n",
    "# Add the heatmap layer.\n",
    "fig.add_layer(heat_layer)\n",
    "# Call the figure to plot the data.\n",
    "fig"
   ]
  },
  {
   "cell_type": "code",
   "execution_count": 5,
   "id": "95847cfe",
   "metadata": {},
   "outputs": [
    {
     "data": {
      "application/vnd.jupyter.widget-view+json": {
       "model_id": "0e39d85833a8401e80939d479e29fa41",
       "version_major": 2,
       "version_minor": 0
      },
      "text/plain": [
       "Figure(layout=FigureLayout(height='420px'))"
      ]
     },
     "metadata": {},
     "output_type": "display_data"
    }
   ],
   "source": [
    "# Heatmap of percent humidity\n",
    "locations = city_data_df[[\"Lat\", \"Lng\"]]\n",
    "humidity = city_data_df[\"Humidity\"]\n",
    "fig = gmaps.figure(center=(30.0, 31.0), zoom_level=1.5)\n",
    "heat_layer = gmaps.heatmap_layer(locations, weights=humidity, dissipating=False, max_intensity=300, point_radius=4)\n",
    "\n",
    "fig.add_layer(heat_layer)\n",
    "# Call the figure to plot the data.\n",
    "fig"
   ]
  },
  {
   "cell_type": "code",
   "execution_count": 6,
   "id": "0414ef83",
   "metadata": {},
   "outputs": [
    {
     "data": {
      "application/vnd.jupyter.widget-view+json": {
       "model_id": "220e34131b394a7bb62421bdfd4de209",
       "version_major": 2,
       "version_minor": 0
      },
      "text/plain": [
       "Figure(layout=FigureLayout(height='420px'))"
      ]
     },
     "metadata": {},
     "output_type": "display_data"
    }
   ],
   "source": [
    "# Heatmap of cloudiness\n",
    "# Get the latitude and longitude.\n",
    "locations = city_data_df[[\"Lat\", \"Lng\"]]\n",
    "# Get the cloudiness\n",
    "clouds = city_data_df[\"Cloudiness\"]\n",
    "# Assign the figure variable.\n",
    "fig = gmaps.figure(center=(30.0, 31.0), zoom_level=1.5)\n",
    "# Assign the heatmap variable.\n",
    "heat_layer = gmaps.heatmap_layer(locations, weights=clouds, \n",
    "                                 dissipating=False, max_intensity=300, point_radius=4)\n",
    "# Add the heatmap layer.\n",
    "fig.add_layer(heat_layer)\n",
    "# Call the figure to plot the data.\n",
    "fig"
   ]
  },
  {
   "cell_type": "code",
   "execution_count": 7,
   "id": "c73f1f08",
   "metadata": {},
   "outputs": [
    {
     "data": {
      "application/vnd.jupyter.widget-view+json": {
       "model_id": "690608947b984f969680a9d208db73df",
       "version_major": 2,
       "version_minor": 0
      },
      "text/plain": [
       "Figure(layout=FigureLayout(height='420px'))"
      ]
     },
     "metadata": {},
     "output_type": "display_data"
    }
   ],
   "source": [
    "# Heatmap of wind speed\n",
    "# Get the latitude and longitude.\n",
    "locations = city_data_df[[\"Lat\", \"Lng\"]]\n",
    "# Get the wind speed\n",
    "wind = city_data_df[\"Wind Speed\"]\n",
    "# Assign the figure variable.\n",
    "fig = gmaps.figure(center=(30.0, 31.0), zoom_level=1.5)\n",
    "# Assign the heatmap variable.\n",
    "heat_layer = gmaps.heatmap_layer(locations, weights=wind, \n",
    "                                 dissipating=False, max_intensity=300, point_radius=4)\n",
    "# Add the heatmap layer.\n",
    "fig.add_layer(heat_layer)\n",
    "# Call the figure to plot the data.\n",
    "fig"
   ]
  },
  {
   "cell_type": "code",
   "execution_count": 8,
   "id": "27d2f157",
   "metadata": {},
   "outputs": [
    {
     "name": "stdout",
     "output_type": "stream",
     "text": [
      "What is the minimum temperature you would like for your trip? 75\n",
      "What is the maximum temperature you would like for your trip? 90\n"
     ]
    }
   ],
   "source": [
    "# Ask the customer to add a minimum and maximum temperature value.\n",
    "min_temp = float(input(\"What is the minimum temperature you would like for your trip? \"))\n",
    "max_temp = float(input(\"What is the maximum temperature you would like for your trip? \"))"
   ]
  },
  {
   "cell_type": "code",
   "execution_count": 9,
   "id": "bae026db",
   "metadata": {},
   "outputs": [
    {
     "data": {
      "text/html": [
       "<div>\n",
       "<style scoped>\n",
       "    .dataframe tbody tr th:only-of-type {\n",
       "        vertical-align: middle;\n",
       "    }\n",
       "\n",
       "    .dataframe tbody tr th {\n",
       "        vertical-align: top;\n",
       "    }\n",
       "\n",
       "    .dataframe thead th {\n",
       "        text-align: right;\n",
       "    }\n",
       "</style>\n",
       "<table border=\"1\" class=\"dataframe\">\n",
       "  <thead>\n",
       "    <tr style=\"text-align: right;\">\n",
       "      <th></th>\n",
       "      <th>City_ID</th>\n",
       "      <th>City</th>\n",
       "      <th>Country</th>\n",
       "      <th>Date</th>\n",
       "      <th>Lat</th>\n",
       "      <th>Lng</th>\n",
       "      <th>Max Temp</th>\n",
       "      <th>Humidity</th>\n",
       "      <th>Cloudiness</th>\n",
       "      <th>Wind Speed</th>\n",
       "    </tr>\n",
       "  </thead>\n",
       "  <tbody>\n",
       "    <tr>\n",
       "      <th>6</th>\n",
       "      <td>6</td>\n",
       "      <td>Lokoja</td>\n",
       "      <td>NG</td>\n",
       "      <td>10/13/2021 0:16</td>\n",
       "      <td>7.8024</td>\n",
       "      <td>6.7430</td>\n",
       "      <td>78.51</td>\n",
       "      <td>85</td>\n",
       "      <td>73</td>\n",
       "      <td>4.36</td>\n",
       "    </tr>\n",
       "    <tr>\n",
       "      <th>11</th>\n",
       "      <td>11</td>\n",
       "      <td>Sawakin</td>\n",
       "      <td>SD</td>\n",
       "      <td>10/13/2021 0:16</td>\n",
       "      <td>19.1059</td>\n",
       "      <td>37.3321</td>\n",
       "      <td>84.79</td>\n",
       "      <td>54</td>\n",
       "      <td>22</td>\n",
       "      <td>5.37</td>\n",
       "    </tr>\n",
       "    <tr>\n",
       "      <th>14</th>\n",
       "      <td>14</td>\n",
       "      <td>Bilma</td>\n",
       "      <td>NE</td>\n",
       "      <td>10/13/2021 0:16</td>\n",
       "      <td>18.6853</td>\n",
       "      <td>12.9164</td>\n",
       "      <td>80.69</td>\n",
       "      <td>12</td>\n",
       "      <td>2</td>\n",
       "      <td>13.06</td>\n",
       "    </tr>\n",
       "    <tr>\n",
       "      <th>21</th>\n",
       "      <td>21</td>\n",
       "      <td>Cabo San Lucas</td>\n",
       "      <td>MX</td>\n",
       "      <td>10/13/2021 0:12</td>\n",
       "      <td>22.8909</td>\n",
       "      <td>-109.9124</td>\n",
       "      <td>79.11</td>\n",
       "      <td>84</td>\n",
       "      <td>90</td>\n",
       "      <td>8.01</td>\n",
       "    </tr>\n",
       "    <tr>\n",
       "      <th>23</th>\n",
       "      <td>23</td>\n",
       "      <td>Bom Jesus Da Lapa</td>\n",
       "      <td>BR</td>\n",
       "      <td>10/13/2021 0:16</td>\n",
       "      <td>-13.2550</td>\n",
       "      <td>-43.4181</td>\n",
       "      <td>82.31</td>\n",
       "      <td>50</td>\n",
       "      <td>79</td>\n",
       "      <td>5.77</td>\n",
       "    </tr>\n",
       "    <tr>\n",
       "      <th>...</th>\n",
       "      <td>...</td>\n",
       "      <td>...</td>\n",
       "      <td>...</td>\n",
       "      <td>...</td>\n",
       "      <td>...</td>\n",
       "      <td>...</td>\n",
       "      <td>...</td>\n",
       "      <td>...</td>\n",
       "      <td>...</td>\n",
       "      <td>...</td>\n",
       "    </tr>\n",
       "    <tr>\n",
       "      <th>566</th>\n",
       "      <td>566</td>\n",
       "      <td>Harrison</td>\n",
       "      <td>US</td>\n",
       "      <td>10/13/2021 0:19</td>\n",
       "      <td>30.4091</td>\n",
       "      <td>-89.0436</td>\n",
       "      <td>78.87</td>\n",
       "      <td>81</td>\n",
       "      <td>20</td>\n",
       "      <td>3.44</td>\n",
       "    </tr>\n",
       "    <tr>\n",
       "      <th>568</th>\n",
       "      <td>568</td>\n",
       "      <td>Harper</td>\n",
       "      <td>LR</td>\n",
       "      <td>10/13/2021 0:19</td>\n",
       "      <td>4.3750</td>\n",
       "      <td>-7.7169</td>\n",
       "      <td>77.20</td>\n",
       "      <td>90</td>\n",
       "      <td>71</td>\n",
       "      <td>7.36</td>\n",
       "    </tr>\n",
       "    <tr>\n",
       "      <th>570</th>\n",
       "      <td>570</td>\n",
       "      <td>Ahuimanu</td>\n",
       "      <td>US</td>\n",
       "      <td>10/13/2021 0:19</td>\n",
       "      <td>21.4447</td>\n",
       "      <td>-157.8378</td>\n",
       "      <td>87.51</td>\n",
       "      <td>70</td>\n",
       "      <td>90</td>\n",
       "      <td>17.27</td>\n",
       "    </tr>\n",
       "    <tr>\n",
       "      <th>584</th>\n",
       "      <td>584</td>\n",
       "      <td>Anjar</td>\n",
       "      <td>IN</td>\n",
       "      <td>10/13/2021 0:19</td>\n",
       "      <td>23.1333</td>\n",
       "      <td>70.0167</td>\n",
       "      <td>81.45</td>\n",
       "      <td>60</td>\n",
       "      <td>0</td>\n",
       "      <td>7.34</td>\n",
       "    </tr>\n",
       "    <tr>\n",
       "      <th>588</th>\n",
       "      <td>588</td>\n",
       "      <td>Yaan</td>\n",
       "      <td>NG</td>\n",
       "      <td>10/13/2021 0:19</td>\n",
       "      <td>7.3833</td>\n",
       "      <td>8.5667</td>\n",
       "      <td>76.57</td>\n",
       "      <td>86</td>\n",
       "      <td>67</td>\n",
       "      <td>4.99</td>\n",
       "    </tr>\n",
       "  </tbody>\n",
       "</table>\n",
       "<p>183 rows × 10 columns</p>\n",
       "</div>"
      ],
      "text/plain": [
       "     City_ID               City Country             Date      Lat       Lng  \\\n",
       "6          6             Lokoja      NG  10/13/2021 0:16   7.8024    6.7430   \n",
       "11        11            Sawakin      SD  10/13/2021 0:16  19.1059   37.3321   \n",
       "14        14              Bilma      NE  10/13/2021 0:16  18.6853   12.9164   \n",
       "21        21     Cabo San Lucas      MX  10/13/2021 0:12  22.8909 -109.9124   \n",
       "23        23  Bom Jesus Da Lapa      BR  10/13/2021 0:16 -13.2550  -43.4181   \n",
       "..       ...                ...     ...              ...      ...       ...   \n",
       "566      566           Harrison      US  10/13/2021 0:19  30.4091  -89.0436   \n",
       "568      568             Harper      LR  10/13/2021 0:19   4.3750   -7.7169   \n",
       "570      570           Ahuimanu      US  10/13/2021 0:19  21.4447 -157.8378   \n",
       "584      584              Anjar      IN  10/13/2021 0:19  23.1333   70.0167   \n",
       "588      588               Yaan      NG  10/13/2021 0:19   7.3833    8.5667   \n",
       "\n",
       "     Max Temp  Humidity  Cloudiness  Wind Speed  \n",
       "6       78.51        85          73        4.36  \n",
       "11      84.79        54          22        5.37  \n",
       "14      80.69        12           2       13.06  \n",
       "21      79.11        84          90        8.01  \n",
       "23      82.31        50          79        5.77  \n",
       "..        ...       ...         ...         ...  \n",
       "566     78.87        81          20        3.44  \n",
       "568     77.20        90          71        7.36  \n",
       "570     87.51        70          90       17.27  \n",
       "584     81.45        60           0        7.34  \n",
       "588     76.57        86          67        4.99  \n",
       "\n",
       "[183 rows x 10 columns]"
      ]
     },
     "execution_count": 9,
     "metadata": {},
     "output_type": "execute_result"
    }
   ],
   "source": [
    "# Filter the dataset to find the cities that fit the criteria.\n",
    "preferred_cities_df = city_data_df.loc[(city_data_df[\"Max Temp\"] <= max_temp) & \\\n",
    "                                       (city_data_df[\"Max Temp\"] >= min_temp)]\n",
    "preferred_cities_df"
   ]
  },
  {
   "cell_type": "code",
   "execution_count": 10,
   "id": "c446fecf",
   "metadata": {},
   "outputs": [
    {
     "data": {
      "text/html": [
       "<div>\n",
       "<style scoped>\n",
       "    .dataframe tbody tr th:only-of-type {\n",
       "        vertical-align: middle;\n",
       "    }\n",
       "\n",
       "    .dataframe tbody tr th {\n",
       "        vertical-align: top;\n",
       "    }\n",
       "\n",
       "    .dataframe thead th {\n",
       "        text-align: right;\n",
       "    }\n",
       "</style>\n",
       "<table border=\"1\" class=\"dataframe\">\n",
       "  <thead>\n",
       "    <tr style=\"text-align: right;\">\n",
       "      <th></th>\n",
       "      <th>City</th>\n",
       "      <th>Country</th>\n",
       "      <th>Max Temp</th>\n",
       "      <th>Lat</th>\n",
       "      <th>Lng</th>\n",
       "      <th>Hotel Name</th>\n",
       "    </tr>\n",
       "  </thead>\n",
       "  <tbody>\n",
       "    <tr>\n",
       "      <th>6</th>\n",
       "      <td>Lokoja</td>\n",
       "      <td>NG</td>\n",
       "      <td>78.51</td>\n",
       "      <td>7.8024</td>\n",
       "      <td>6.7430</td>\n",
       "      <td></td>\n",
       "    </tr>\n",
       "    <tr>\n",
       "      <th>11</th>\n",
       "      <td>Sawakin</td>\n",
       "      <td>SD</td>\n",
       "      <td>84.79</td>\n",
       "      <td>19.1059</td>\n",
       "      <td>37.3321</td>\n",
       "      <td></td>\n",
       "    </tr>\n",
       "    <tr>\n",
       "      <th>14</th>\n",
       "      <td>Bilma</td>\n",
       "      <td>NE</td>\n",
       "      <td>80.69</td>\n",
       "      <td>18.6853</td>\n",
       "      <td>12.9164</td>\n",
       "      <td></td>\n",
       "    </tr>\n",
       "    <tr>\n",
       "      <th>21</th>\n",
       "      <td>Cabo San Lucas</td>\n",
       "      <td>MX</td>\n",
       "      <td>79.11</td>\n",
       "      <td>22.8909</td>\n",
       "      <td>-109.9124</td>\n",
       "      <td></td>\n",
       "    </tr>\n",
       "    <tr>\n",
       "      <th>23</th>\n",
       "      <td>Bom Jesus Da Lapa</td>\n",
       "      <td>BR</td>\n",
       "      <td>82.31</td>\n",
       "      <td>-13.2550</td>\n",
       "      <td>-43.4181</td>\n",
       "      <td></td>\n",
       "    </tr>\n",
       "  </tbody>\n",
       "</table>\n",
       "</div>"
      ],
      "text/plain": [
       "                 City Country  Max Temp      Lat       Lng Hotel Name\n",
       "6              Lokoja      NG     78.51   7.8024    6.7430           \n",
       "11            Sawakin      SD     84.79  19.1059   37.3321           \n",
       "14              Bilma      NE     80.69  18.6853   12.9164           \n",
       "21     Cabo San Lucas      MX     79.11  22.8909 -109.9124           \n",
       "23  Bom Jesus Da Lapa      BR     82.31 -13.2550  -43.4181           "
      ]
     },
     "execution_count": 10,
     "metadata": {},
     "output_type": "execute_result"
    }
   ],
   "source": [
    "# Create DataFrame called hotel_df to store hotel names along with city, country, max temp, and coordinates.\n",
    "hotel_df = preferred_cities_df[[\"City\", \"Country\", \"Max Temp\", \"Lat\", \"Lng\"]].copy()\n",
    "hotel_df[\"Hotel Name\"] = \"\"\n",
    "hotel_df.head()"
   ]
  },
  {
   "cell_type": "code",
   "execution_count": 11,
   "id": "c5907f85",
   "metadata": {},
   "outputs": [],
   "source": [
    "# Set parameters to search for a hotel.\n",
    "params = {\n",
    "    \"radius\": 5000,\n",
    "    \"type\": \"lodging\",\n",
    "    \"key\": google_key\n",
    "}"
   ]
  },
  {
   "cell_type": "code",
   "execution_count": 22,
   "id": "de0407b9",
   "metadata": {},
   "outputs": [],
   "source": [
    "info_box_template = \"\"\"\n",
    "<dl>\n",
    "<dt>Hotel Name</dt><dd>{Hotel Name}</dd>\n",
    "<dt>City</dt><dd>{City}</dd>\n",
    "<dt>Country</dt><dd>{Country}</dd>\n",
    "<dt>Max Temp</dt><dd>{Max Temp} °F</dd>\n",
    "</dl>\n",
    "\"\"\""
   ]
  },
  {
   "cell_type": "code",
   "execution_count": 23,
   "id": "9ac0df92",
   "metadata": {},
   "outputs": [
    {
     "name": "stdout",
     "output_type": "stream",
     "text": [
      "Hotel not found... skipping.\n",
      "Hotel not found... skipping.\n",
      "Hotel not found... skipping.\n",
      "Hotel not found... skipping.\n",
      "Hotel not found... skipping.\n",
      "Hotel not found... skipping.\n",
      "Hotel not found... skipping.\n",
      "Hotel not found... skipping.\n",
      "Hotel not found... skipping.\n",
      "done\n"
     ]
    }
   ],
   "source": [
    "# Iterate through the DataFrame.\n",
    "for index, row in hotel_df.iterrows():\n",
    "    # Get the latitude and longitude.\n",
    "    lat = row[\"Lat\"]\n",
    "    lng = row[\"Lng\"]\n",
    "\n",
    "    # Add the latitude and longitude to location key for the params dictionary.\n",
    "    params[\"location\"] = f\"{lat},{lng}\"\n",
    "    # Store the DataFrame Row.\n",
    "    hotel_info = [info_box_template.format(**row) for index, row in hotel_df.iterrows()]\n",
    "    # Use the search term: \"lodging\" and our latitude and longitude.\n",
    "    base_url = \"https://maps.googleapis.com/maps/api/place/nearbysearch/json\"\n",
    "    # Make request and get the JSON data from the search.\n",
    "    hotels = requests.get(base_url, params=params).json()\n",
    "    # Grab the first hotel from the results and store the name.\n",
    "    try:\n",
    "        hotel_df.loc[index, \"Hotel Name\"] = hotels[\"results\"][0][\"name\"]\n",
    "    except (IndexError):\n",
    "        print(\"Hotel not found... skipping.\")\n",
    "         \n",
    "print(\"done\")"
   ]
  },
  {
   "cell_type": "code",
   "execution_count": 25,
   "id": "ae85d27a",
   "metadata": {},
   "outputs": [
    {
     "data": {
      "application/vnd.jupyter.widget-view+json": {
       "model_id": "7f658e6e0c1b4b85aab484c6ef92e789",
       "version_major": 2,
       "version_minor": 0
      },
      "text/plain": [
       "Figure(layout=FigureLayout(height='420px'))"
      ]
     },
     "metadata": {},
     "output_type": "display_data"
    }
   ],
   "source": [
    "# Add a heatmap of temperature for the vacation spots and marker for each city.\n",
    "locations = hotel_df[[\"Lat\", \"Lng\"]]\n",
    "max_temp = hotel_df[\"Max Temp\"]\n",
    "fig = gmaps.figure(center=(30.0, 31.0), zoom_level=1.5)\n",
    "heat_layer = gmaps.heatmap_layer(locations, weights=max_temp,\n",
    "             dissipating=False, max_intensity=300, point_radius=4)\n",
    "marker_layer = gmaps.marker_layer(locations, info_box_content=hotel_info)\n",
    "fig.add_layer(heat_layer)\n",
    "fig.add_layer(marker_layer)\n",
    "# Call the figure to plot the data.\n",
    "fig"
   ]
  },
  {
   "cell_type": "code",
   "execution_count": null,
   "id": "7a8e311d",
   "metadata": {},
   "outputs": [],
   "source": []
  }
 ],
 "metadata": {
  "kernelspec": {
   "display_name": "pythondata",
   "language": "python",
   "name": "pythondata"
  },
  "language_info": {
   "codemirror_mode": {
    "name": "ipython",
    "version": 3
   },
   "file_extension": ".py",
   "mimetype": "text/x-python",
   "name": "python",
   "nbconvert_exporter": "python",
   "pygments_lexer": "ipython3",
   "version": "3.7.10"
  }
 },
 "nbformat": 4,
 "nbformat_minor": 5
}
